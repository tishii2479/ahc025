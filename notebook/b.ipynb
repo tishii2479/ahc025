{
 "cells": [
  {
   "cell_type": "code",
   "execution_count": 6,
   "metadata": {},
   "outputs": [],
   "source": [
    "def read_input(seed: int):\n",
    "    with open(f\"../tools/in/{seed:04}.txt\", \"r\") as f:\n",
    "        n, d, q = map(int, f.readline().split())\n",
    "        w = list(map(int, f.readline().split()))\n",
    "    return n, d, q, w"
   ]
  },
  {
   "cell_type": "code",
   "execution_count": 17,
   "metadata": {},
   "outputs": [
    {
     "data": {
      "text/plain": [
       "[([1, 7, 13, 19, 25, 31, 37, 43, 49, 55], 1),\n",
       " ([2, 8, 14, 46, 34, 32, 38, 44, 50, 22, 52, 3], 2),\n",
       " ([5, 11, 17, 23, 29, 35, 41, 47, 53, 33, 20], 5),\n",
       " ([16, 10, 40, 4, 26, 28], 4),\n",
       " ([24, 6, 42, 18, 45, 54, 36, 0, 48, 12, 30], 0),\n",
       " ([39, 9, 15, 21, 27, 51], 3)]"
      ]
     },
     "execution_count": 17,
     "metadata": {},
     "output_type": "execute_result"
    }
   ],
   "source": [
    "n, d, q, w = read_input(1)\n",
    "\n",
    "groups = [\n",
    "    [\n",
    "        24,\n",
    "        6,\n",
    "        42,\n",
    "        18,\n",
    "        45,\n",
    "        54,\n",
    "        36,\n",
    "        0,\n",
    "        48,\n",
    "        12,\n",
    "        30,\n",
    "    ],\n",
    "    [\n",
    "        1,\n",
    "        7,\n",
    "        13,\n",
    "        19,\n",
    "        25,\n",
    "        31,\n",
    "        37,\n",
    "        43,\n",
    "        49,\n",
    "        55,\n",
    "    ],\n",
    "    [\n",
    "        2,\n",
    "        8,\n",
    "        14,\n",
    "        46,\n",
    "        34,\n",
    "        32,\n",
    "        38,\n",
    "        44,\n",
    "        50,\n",
    "        22,\n",
    "        52,\n",
    "        3,\n",
    "    ],\n",
    "    [\n",
    "        39,\n",
    "        9,\n",
    "        15,\n",
    "        21,\n",
    "        27,\n",
    "        51,\n",
    "    ],\n",
    "    [\n",
    "        16,\n",
    "        10,\n",
    "        40,\n",
    "        4,\n",
    "        26,\n",
    "        28,\n",
    "    ],\n",
    "    [\n",
    "        5,\n",
    "        11,\n",
    "        17,\n",
    "        23,\n",
    "        29,\n",
    "        35,\n",
    "        41,\n",
    "        47,\n",
    "        53,\n",
    "        33,\n",
    "        20,\n",
    "    ],\n",
    "]\n",
    "\n",
    "groups = [(groups[i], i) for i in range(d)]\n",
    "sorted(groups)"
   ]
  },
  {
   "cell_type": "code",
   "execution_count": null,
   "metadata": {},
   "outputs": [],
   "source": []
  }
 ],
 "metadata": {
  "kernelspec": {
   "display_name": "Python 3",
   "language": "python",
   "name": "python3"
  },
  "language_info": {
   "codemirror_mode": {
    "name": "ipython",
    "version": 3
   },
   "file_extension": ".py",
   "mimetype": "text/x-python",
   "name": "python",
   "nbconvert_exporter": "python",
   "pygments_lexer": "ipython3",
   "version": "3.10.4"
  },
  "orig_nbformat": 4
 },
 "nbformat": 4,
 "nbformat_minor": 2
}
