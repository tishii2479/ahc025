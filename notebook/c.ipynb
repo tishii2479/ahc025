{
 "cells": [
  {
   "cell_type": "code",
   "execution_count": 17,
   "metadata": {},
   "outputs": [],
   "source": [
    "import subprocess\n",
    "import json\n",
    "from tqdm import tqdm\n",
    "from joblib import Parallel, delayed"
   ]
  },
  {
   "cell_type": "code",
   "execution_count": 28,
   "metadata": {},
   "outputs": [
    {
     "name": "stderr",
     "output_type": "stream",
     "text": [
      "[Parallel(n_jobs=-1)]: Using backend LokyBackend with 8 concurrent workers.\n",
      "[Parallel(n_jobs=-1)]: Done   2 tasks      | elapsed:    5.1s\n",
      "[Parallel(n_jobs=-1)]: Done   9 tasks      | elapsed:   10.1s\n",
      "[Parallel(n_jobs=-1)]: Done  16 tasks      | elapsed:   10.2s\n",
      "[Parallel(n_jobs=-1)]: Done  25 tasks      | elapsed:   20.2s\n",
      "[Parallel(n_jobs=-1)]: Done  34 tasks      | elapsed:   25.3s\n",
      "[Parallel(n_jobs=-1)]: Done  41 out of  50 | elapsed:   30.4s remaining:    6.7s\n",
      "[Parallel(n_jobs=-1)]: Done  47 out of  50 | elapsed:   30.5s remaining:    1.9s\n",
      "[Parallel(n_jobs=-1)]: Done  50 out of  50 | elapsed:   35.4s finished\n"
     ]
    }
   ],
   "source": [
    "best_scores = []\n",
    "best_answers = []\n",
    "\n",
    "def run(seed: int):\n",
    "    best_d = {}\n",
    "    best_score = 1e10\n",
    "    for _ in range(5):\n",
    "        proc = subprocess.run(\n",
    "            f\"../peek-solver/target/release/peek-solver < ../tools/in/{seed:04}.txt\",\n",
    "            shell=True,\n",
    "            stdout=subprocess.PIPE,\n",
    "            stderr=subprocess.PIPE\n",
    "        )\n",
    "        stdout = proc.stdout.decode()\n",
    "        d = json.loads(stdout)\n",
    "        score = d[\"final_score\"]\n",
    "        if score < best_score:\n",
    "            best_d = d\n",
    "    return seed, best_d\n",
    "\n",
    "results = Parallel(n_jobs=-1, verbose=10)(delayed(run)(seed) for seed in range(50))"
   ]
  },
  {
   "cell_type": "code",
   "execution_count": 30,
   "metadata": {},
   "outputs": [
    {
     "name": "stdout",
     "output_type": "stream",
     "text": [
      "tools/in/0000.txt,peek-solver,10851,2.0\n",
      "tools/in/0001.txt,peek-solver,40481,2.0\n",
      "tools/in/0002.txt,peek-solver,4748,2.0\n",
      "tools/in/0003.txt,peek-solver,11926,2.0\n",
      "tools/in/0004.txt,peek-solver,226771,2.0\n",
      "tools/in/0005.txt,peek-solver,49024,2.0\n",
      "tools/in/0006.txt,peek-solver,3601,2.0\n",
      "tools/in/0007.txt,peek-solver,8788,2.0\n",
      "tools/in/0008.txt,peek-solver,766876,2.0\n",
      "tools/in/0009.txt,peek-solver,38211,2.0\n",
      "tools/in/0010.txt,peek-solver,73034,2.0\n",
      "tools/in/0011.txt,peek-solver,71665,2.0\n",
      "tools/in/0012.txt,peek-solver,74473,2.0\n",
      "tools/in/0013.txt,peek-solver,39621,2.0\n",
      "tools/in/0014.txt,peek-solver,579094,2.0\n",
      "tools/in/0015.txt,peek-solver,83835,2.0\n",
      "tools/in/0016.txt,peek-solver,14232,2.0\n",
      "tools/in/0017.txt,peek-solver,78142,2.0\n",
      "tools/in/0018.txt,peek-solver,32760,2.0\n",
      "tools/in/0019.txt,peek-solver,17744,2.0\n",
      "tools/in/0020.txt,peek-solver,39926,2.0\n",
      "tools/in/0021.txt,peek-solver,36455,2.0\n",
      "tools/in/0022.txt,peek-solver,2351,2.0\n",
      "tools/in/0023.txt,peek-solver,15763,2.0\n",
      "tools/in/0024.txt,peek-solver,25067,2.0\n",
      "tools/in/0025.txt,peek-solver,837919,2.0\n",
      "tools/in/0026.txt,peek-solver,2451,2.0\n",
      "tools/in/0027.txt,peek-solver,59101,2.0\n",
      "tools/in/0028.txt,peek-solver,8817,2.0\n",
      "tools/in/0029.txt,peek-solver,36857,2.0\n",
      "tools/in/0030.txt,peek-solver,6476,2.0\n",
      "tools/in/0031.txt,peek-solver,17651,2.0\n",
      "tools/in/0032.txt,peek-solver,7942,2.0\n",
      "tools/in/0033.txt,peek-solver,30693,2.0\n",
      "tools/in/0034.txt,peek-solver,90818,2.0\n",
      "tools/in/0035.txt,peek-solver,8400,2.0\n",
      "tools/in/0036.txt,peek-solver,4514,2.0\n",
      "tools/in/0037.txt,peek-solver,37300,2.0\n",
      "tools/in/0038.txt,peek-solver,15535,2.0\n",
      "tools/in/0039.txt,peek-solver,13124,2.0\n",
      "tools/in/0040.txt,peek-solver,32636,2.0\n",
      "tools/in/0041.txt,peek-solver,2634444,2.0\n",
      "tools/in/0042.txt,peek-solver,13201,2.0\n",
      "tools/in/0043.txt,peek-solver,47552,2.0\n",
      "tools/in/0044.txt,peek-solver,15385,2.0\n",
      "tools/in/0045.txt,peek-solver,56619,2.0\n",
      "tools/in/0046.txt,peek-solver,10256,2.0\n",
      "tools/in/0047.txt,peek-solver,60099,2.0\n",
      "tools/in/0048.txt,peek-solver,14366,2.0\n",
      "tools/in/0049.txt,peek-solver,9296,2.0\n"
     ]
    }
   ],
   "source": [
    "for seed, d in results:\n",
    "    print(f\"tools/in/{seed:04}.txt,peek-solver,{d['final_score']},2.0\")"
   ]
  },
  {
   "cell_type": "code",
   "execution_count": null,
   "metadata": {},
   "outputs": [],
   "source": []
  }
 ],
 "metadata": {
  "kernelspec": {
   "display_name": "Python 3",
   "language": "python",
   "name": "python3"
  },
  "language_info": {
   "codemirror_mode": {
    "name": "ipython",
    "version": 3
   },
   "file_extension": ".py",
   "mimetype": "text/x-python",
   "name": "python",
   "nbconvert_exporter": "python",
   "pygments_lexer": "ipython3",
   "version": "3.10.4"
  },
  "orig_nbformat": 4
 },
 "nbformat": 4,
 "nbformat_minor": 2
}
